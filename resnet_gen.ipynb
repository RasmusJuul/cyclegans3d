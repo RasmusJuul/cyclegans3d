{
 "cells": [
  {
   "cell_type": "code",
   "execution_count": 1,
   "metadata": {},
   "outputs": [],
   "source": [
    "import torch\n",
    "from torch import nn"
   ]
  },
  {
   "cell_type": "code",
   "execution_count": 2,
   "metadata": {},
   "outputs": [
    {
     "name": "stdout",
     "output_type": "stream",
     "text": [
      "torch.Size([2, 3, 256, 256])\n"
     ]
    }
   ],
   "source": [
    "class ResnetBlock(nn.Module):\n",
    "    \"\"\"Residual block\"\"\"\n",
    "    \n",
    "    def __init__(self, dim):\n",
    "        \"\"\"Initializes a resnet block\n",
    "        \n",
    "        Parameters:\n",
    "            dim (int) : number channels in the convolution layer\n",
    "            \n",
    "        Returns:\n",
    "            Block of two 3x3 refectionpad-conv-instancenorm layers.\n",
    "        \n",
    "        This block learns the residual function.\n",
    "        Thus the input must have the same channels as the arg dim passed here\n",
    "        \"\"\"\n",
    "        super(ResnetBlock, self).__init__()\n",
    "        self.conv_block = nn.Sequential(\n",
    "            nn.ReflectionPad2d(1),\n",
    "            nn.Conv2d(dim, dim, 3, 1),\n",
    "            nn.InstanceNorm2d(dim),\n",
    "            nn.ReLU(inplace=True),\n",
    "            \n",
    "            nn.ReflectionPad2d(1),\n",
    "            nn.Conv2d(dim, dim, 3, 1),\n",
    "            nn.InstanceNorm2d(dim)\n",
    "        )\n",
    "        \n",
    "    def forward(self, x):\n",
    "        return self.conv_block(x) + x\n",
    "    \n",
    "x = torch.rand(2, 3, 256, 256)\n",
    "f = ResnetBlock(3)\n",
    "with torch.no_grad():\n",
    "    print(f(x).shape)"
   ]
  },
  {
   "cell_type": "markdown",
   "metadata": {},
   "source": [
    "## Convblock magic\n",
    "Using padding = (kernel - 1) / 2 makes the size scaled down by a factor of stride only"
   ]
  },
  {
   "cell_type": "code",
   "execution_count": 3,
   "metadata": {},
   "outputs": [],
   "source": [
    "# class ConvBlock(nn.Module):\n",
    "#     \"\"\"Contains an convolution-InstanceNorm-Relu layer\"\"\"\n",
    "#     def __init__(self, channels_out):\n",
    "#         super(ConvBlock, self).__init__()\n",
    "#         channels_in = channels_out // 2\n",
    "#         self.block = nn.Sequential(\n",
    "#             nn.Conv2d(channels_in, channels_out, kernel_size=3, stride=2, padding=1),\n",
    "#             nn.InstanceNorm2d(channels_out),\n",
    "#             nn.ReLU(inplace=True)\n",
    "#         )\n",
    "\n",
    "#     def forward(self, x):\n",
    "#         return self.block(x)"
   ]
  },
  {
   "cell_type": "code",
   "execution_count": 4,
   "metadata": {},
   "outputs": [],
   "source": [
    "# class ConvTranposeBlock(nn.Module):\n",
    "#     def __init__(self, channels_out):\n",
    "#         super(ConvTranposeBlock, self).__init__()\n",
    "#         channels_in = channels_out * 2\n",
    "#         self.block = nn.Sequential(\n",
    "#             nn.ConvTranspose2d(channels_in, channels_out, kernel_size=3, stride=2, padding=1, output_padding=1),\n",
    "#             nn.InstanceNorm2d(channels_out),\n",
    "#             nn.ReLU(True)            \n",
    "#         )\n",
    "#     def forward(self, x):\n",
    "#         return self.block(x)\n",
    "    \n",
    "# x = torch.rand(2, 256, 64, 64)\n",
    "# f = ConvTranposeBlock(128)\n",
    "# with torch.no_grad():\n",
    "#     print(f(x).shape)"
   ]
  },
  {
   "cell_type": "code",
   "execution_count": 5,
   "metadata": {},
   "outputs": [],
   "source": [
    "def ConvBlock(channels_out):\n",
    "    channels_in = channels_out // 2\n",
    "    return (\n",
    "        nn.Conv2d(channels_in, channels_out, kernel_size=3, stride=2, padding=1),\n",
    "        nn.InstanceNorm2d(channels_out),\n",
    "        nn.ReLU(inplace=True)\n",
    "    )\n",
    "\n",
    "def ConvTranposeBlock(channels_out):\n",
    "    channels_in = channels_out * 2\n",
    "    return (\n",
    "        nn.ConvTranspose2d(channels_in, channels_out, kernel_size=3, stride=2, padding=1, output_padding=1),\n",
    "        nn.InstanceNorm2d(channels_out),\n",
    "        nn.ReLU(True)            \n",
    "    )"
   ]
  },
  {
   "cell_type": "code",
   "execution_count": 6,
   "metadata": {},
   "outputs": [
    {
     "name": "stdout",
     "output_type": "stream",
     "text": [
      "torch.Size([2, 3, 256, 256])\n",
      "7,837,699\n"
     ]
    }
   ],
   "source": [
    "x = torch.rand(2, 3, 256, 256)\n",
    "model = nn.Sequential(\n",
    "    # first block uses reflection padding and instance norm\n",
    "    nn.ReflectionPad2d(3),\n",
    "    nn.Conv2d(3, 64, kernel_size=7, stride=1),\n",
    "    nn.InstanceNorm2d(64),\n",
    "    nn.ReLU(True),\n",
    "    \n",
    "    *ConvBlock(128),\n",
    "    *ConvBlock(256),\n",
    "    \n",
    "    # six residual blocks\n",
    "    *[ResnetBlock(256) for i in range(6)],\n",
    "    \n",
    "    *ConvTranposeBlock(128),\n",
    "    *ConvTranposeBlock(64),\n",
    "    \n",
    "    # last block uses reflection padding but no normalization and tanh\n",
    "    nn.ReflectionPad2d(3),\n",
    "    nn.Conv2d(64, 3, kernel_size=7, stride=1),\n",
    "    nn.Tanh()\n",
    ")\n",
    "\n",
    "with torch.no_grad():\n",
    "    print(model(x).shape)\n",
    "y = sum(p.numel() for p in model.parameters())\n",
    "print(f\"{y:,}\")"
   ]
  },
  {
   "cell_type": "code",
   "execution_count": 7,
   "metadata": {},
   "outputs": [
    {
     "name": "stdout",
     "output_type": "stream",
     "text": [
      "Sequential(\n",
      "  (0): ReflectionPad2d((3, 3, 3, 3))\n",
      "  (1): Conv2d(3, 64, kernel_size=(7, 7), stride=(1, 1))\n",
      "  (2): InstanceNorm2d(64, eps=1e-05, momentum=0.1, affine=False, track_running_stats=False)\n",
      "  (3): ReLU(inplace=True)\n",
      "  (4): Conv2d(64, 128, kernel_size=(3, 3), stride=(2, 2), padding=(1, 1))\n",
      "  (5): InstanceNorm2d(128, eps=1e-05, momentum=0.1, affine=False, track_running_stats=False)\n",
      "  (6): ReLU(inplace=True)\n",
      "  (7): Conv2d(128, 256, kernel_size=(3, 3), stride=(2, 2), padding=(1, 1))\n",
      "  (8): InstanceNorm2d(256, eps=1e-05, momentum=0.1, affine=False, track_running_stats=False)\n",
      "  (9): ReLU(inplace=True)\n",
      "  (10): ResnetBlock(\n",
      "    (conv_block): Sequential(\n",
      "      (0): ReflectionPad2d((1, 1, 1, 1))\n",
      "      (1): Conv2d(256, 256, kernel_size=(3, 3), stride=(1, 1))\n",
      "      (2): InstanceNorm2d(256, eps=1e-05, momentum=0.1, affine=False, track_running_stats=False)\n",
      "      (3): ReLU(inplace=True)\n",
      "      (4): ReflectionPad2d((1, 1, 1, 1))\n",
      "      (5): Conv2d(256, 256, kernel_size=(3, 3), stride=(1, 1))\n",
      "      (6): InstanceNorm2d(256, eps=1e-05, momentum=0.1, affine=False, track_running_stats=False)\n",
      "    )\n",
      "  )\n",
      "  (11): ResnetBlock(\n",
      "    (conv_block): Sequential(\n",
      "      (0): ReflectionPad2d((1, 1, 1, 1))\n",
      "      (1): Conv2d(256, 256, kernel_size=(3, 3), stride=(1, 1))\n",
      "      (2): InstanceNorm2d(256, eps=1e-05, momentum=0.1, affine=False, track_running_stats=False)\n",
      "      (3): ReLU(inplace=True)\n",
      "      (4): ReflectionPad2d((1, 1, 1, 1))\n",
      "      (5): Conv2d(256, 256, kernel_size=(3, 3), stride=(1, 1))\n",
      "      (6): InstanceNorm2d(256, eps=1e-05, momentum=0.1, affine=False, track_running_stats=False)\n",
      "    )\n",
      "  )\n",
      "  (12): ResnetBlock(\n",
      "    (conv_block): Sequential(\n",
      "      (0): ReflectionPad2d((1, 1, 1, 1))\n",
      "      (1): Conv2d(256, 256, kernel_size=(3, 3), stride=(1, 1))\n",
      "      (2): InstanceNorm2d(256, eps=1e-05, momentum=0.1, affine=False, track_running_stats=False)\n",
      "      (3): ReLU(inplace=True)\n",
      "      (4): ReflectionPad2d((1, 1, 1, 1))\n",
      "      (5): Conv2d(256, 256, kernel_size=(3, 3), stride=(1, 1))\n",
      "      (6): InstanceNorm2d(256, eps=1e-05, momentum=0.1, affine=False, track_running_stats=False)\n",
      "    )\n",
      "  )\n",
      "  (13): ResnetBlock(\n",
      "    (conv_block): Sequential(\n",
      "      (0): ReflectionPad2d((1, 1, 1, 1))\n",
      "      (1): Conv2d(256, 256, kernel_size=(3, 3), stride=(1, 1))\n",
      "      (2): InstanceNorm2d(256, eps=1e-05, momentum=0.1, affine=False, track_running_stats=False)\n",
      "      (3): ReLU(inplace=True)\n",
      "      (4): ReflectionPad2d((1, 1, 1, 1))\n",
      "      (5): Conv2d(256, 256, kernel_size=(3, 3), stride=(1, 1))\n",
      "      (6): InstanceNorm2d(256, eps=1e-05, momentum=0.1, affine=False, track_running_stats=False)\n",
      "    )\n",
      "  )\n",
      "  (14): ResnetBlock(\n",
      "    (conv_block): Sequential(\n",
      "      (0): ReflectionPad2d((1, 1, 1, 1))\n",
      "      (1): Conv2d(256, 256, kernel_size=(3, 3), stride=(1, 1))\n",
      "      (2): InstanceNorm2d(256, eps=1e-05, momentum=0.1, affine=False, track_running_stats=False)\n",
      "      (3): ReLU(inplace=True)\n",
      "      (4): ReflectionPad2d((1, 1, 1, 1))\n",
      "      (5): Conv2d(256, 256, kernel_size=(3, 3), stride=(1, 1))\n",
      "      (6): InstanceNorm2d(256, eps=1e-05, momentum=0.1, affine=False, track_running_stats=False)\n",
      "    )\n",
      "  )\n",
      "  (15): ResnetBlock(\n",
      "    (conv_block): Sequential(\n",
      "      (0): ReflectionPad2d((1, 1, 1, 1))\n",
      "      (1): Conv2d(256, 256, kernel_size=(3, 3), stride=(1, 1))\n",
      "      (2): InstanceNorm2d(256, eps=1e-05, momentum=0.1, affine=False, track_running_stats=False)\n",
      "      (3): ReLU(inplace=True)\n",
      "      (4): ReflectionPad2d((1, 1, 1, 1))\n",
      "      (5): Conv2d(256, 256, kernel_size=(3, 3), stride=(1, 1))\n",
      "      (6): InstanceNorm2d(256, eps=1e-05, momentum=0.1, affine=False, track_running_stats=False)\n",
      "    )\n",
      "  )\n",
      "  (16): ConvTranspose2d(256, 128, kernel_size=(3, 3), stride=(2, 2), padding=(1, 1), output_padding=(1, 1))\n",
      "  (17): InstanceNorm2d(128, eps=1e-05, momentum=0.1, affine=False, track_running_stats=False)\n",
      "  (18): ReLU(inplace=True)\n",
      "  (19): ConvTranspose2d(128, 64, kernel_size=(3, 3), stride=(2, 2), padding=(1, 1), output_padding=(1, 1))\n",
      "  (20): InstanceNorm2d(64, eps=1e-05, momentum=0.1, affine=False, track_running_stats=False)\n",
      "  (21): ReLU(inplace=True)\n",
      "  (22): ReflectionPad2d((3, 3, 3, 3))\n",
      "  (23): Conv2d(64, 3, kernel_size=(7, 7), stride=(1, 1))\n",
      "  (24): Tanh()\n",
      ")\n"
     ]
    }
   ],
   "source": [
    "print(model)"
   ]
  },
  {
   "cell_type": "code",
   "execution_count": 8,
   "metadata": {},
   "outputs": [],
   "source": [
    "# model = model.cuda()\n",
    "# batch = torch.rand(8, 3, 128, 128).cuda()\n",
    "# out = model(batch)"
   ]
  },
  {
   "cell_type": "code",
   "execution_count": 9,
   "metadata": {},
   "outputs": [],
   "source": [
    "from original_gen import ResnetGenerator"
   ]
  },
  {
   "cell_type": "code",
   "execution_count": 10,
   "metadata": {},
   "outputs": [
    {
     "name": "stdout",
     "output_type": "stream",
     "text": [
      "torch.Size([2, 3, 256, 256])\n",
      "7,837,699\n"
     ]
    }
   ],
   "source": [
    "test = ResnetGenerator(3, 3, 64, norm_layer=nn.InstanceNorm2d, use_dropout=False, n_blocks=6)\n",
    "with torch.no_grad():\n",
    "    print(test(x).shape)\n",
    "y = sum(p.numel() for p in test.parameters())\n",
    "print(f\"{y:,}\")"
   ]
  },
  {
   "cell_type": "code",
   "execution_count": 11,
   "metadata": {},
   "outputs": [
    {
     "name": "stdout",
     "output_type": "stream",
     "text": [
      "ResnetGenerator(\n",
      "  (model): Sequential(\n",
      "    (0): ReflectionPad2d((3, 3, 3, 3))\n",
      "    (1): Conv2d(3, 64, kernel_size=(7, 7), stride=(1, 1))\n",
      "    (2): InstanceNorm2d(64, eps=1e-05, momentum=0.1, affine=False, track_running_stats=False)\n",
      "    (3): ReLU(inplace=True)\n",
      "    (4): Conv2d(64, 128, kernel_size=(3, 3), stride=(2, 2), padding=(1, 1))\n",
      "    (5): InstanceNorm2d(128, eps=1e-05, momentum=0.1, affine=False, track_running_stats=False)\n",
      "    (6): ReLU(inplace=True)\n",
      "    (7): Conv2d(128, 256, kernel_size=(3, 3), stride=(2, 2), padding=(1, 1))\n",
      "    (8): InstanceNorm2d(256, eps=1e-05, momentum=0.1, affine=False, track_running_stats=False)\n",
      "    (9): ReLU(inplace=True)\n",
      "    (10): ResnetBlock(\n",
      "      (conv_block): Sequential(\n",
      "        (0): ReflectionPad2d((1, 1, 1, 1))\n",
      "        (1): Conv2d(256, 256, kernel_size=(3, 3), stride=(1, 1))\n",
      "        (2): InstanceNorm2d(256, eps=1e-05, momentum=0.1, affine=False, track_running_stats=False)\n",
      "        (3): ReLU(inplace=True)\n",
      "        (4): ReflectionPad2d((1, 1, 1, 1))\n",
      "        (5): Conv2d(256, 256, kernel_size=(3, 3), stride=(1, 1))\n",
      "        (6): InstanceNorm2d(256, eps=1e-05, momentum=0.1, affine=False, track_running_stats=False)\n",
      "      )\n",
      "    )\n",
      "    (11): ResnetBlock(\n",
      "      (conv_block): Sequential(\n",
      "        (0): ReflectionPad2d((1, 1, 1, 1))\n",
      "        (1): Conv2d(256, 256, kernel_size=(3, 3), stride=(1, 1))\n",
      "        (2): InstanceNorm2d(256, eps=1e-05, momentum=0.1, affine=False, track_running_stats=False)\n",
      "        (3): ReLU(inplace=True)\n",
      "        (4): ReflectionPad2d((1, 1, 1, 1))\n",
      "        (5): Conv2d(256, 256, kernel_size=(3, 3), stride=(1, 1))\n",
      "        (6): InstanceNorm2d(256, eps=1e-05, momentum=0.1, affine=False, track_running_stats=False)\n",
      "      )\n",
      "    )\n",
      "    (12): ResnetBlock(\n",
      "      (conv_block): Sequential(\n",
      "        (0): ReflectionPad2d((1, 1, 1, 1))\n",
      "        (1): Conv2d(256, 256, kernel_size=(3, 3), stride=(1, 1))\n",
      "        (2): InstanceNorm2d(256, eps=1e-05, momentum=0.1, affine=False, track_running_stats=False)\n",
      "        (3): ReLU(inplace=True)\n",
      "        (4): ReflectionPad2d((1, 1, 1, 1))\n",
      "        (5): Conv2d(256, 256, kernel_size=(3, 3), stride=(1, 1))\n",
      "        (6): InstanceNorm2d(256, eps=1e-05, momentum=0.1, affine=False, track_running_stats=False)\n",
      "      )\n",
      "    )\n",
      "    (13): ResnetBlock(\n",
      "      (conv_block): Sequential(\n",
      "        (0): ReflectionPad2d((1, 1, 1, 1))\n",
      "        (1): Conv2d(256, 256, kernel_size=(3, 3), stride=(1, 1))\n",
      "        (2): InstanceNorm2d(256, eps=1e-05, momentum=0.1, affine=False, track_running_stats=False)\n",
      "        (3): ReLU(inplace=True)\n",
      "        (4): ReflectionPad2d((1, 1, 1, 1))\n",
      "        (5): Conv2d(256, 256, kernel_size=(3, 3), stride=(1, 1))\n",
      "        (6): InstanceNorm2d(256, eps=1e-05, momentum=0.1, affine=False, track_running_stats=False)\n",
      "      )\n",
      "    )\n",
      "    (14): ResnetBlock(\n",
      "      (conv_block): Sequential(\n",
      "        (0): ReflectionPad2d((1, 1, 1, 1))\n",
      "        (1): Conv2d(256, 256, kernel_size=(3, 3), stride=(1, 1))\n",
      "        (2): InstanceNorm2d(256, eps=1e-05, momentum=0.1, affine=False, track_running_stats=False)\n",
      "        (3): ReLU(inplace=True)\n",
      "        (4): ReflectionPad2d((1, 1, 1, 1))\n",
      "        (5): Conv2d(256, 256, kernel_size=(3, 3), stride=(1, 1))\n",
      "        (6): InstanceNorm2d(256, eps=1e-05, momentum=0.1, affine=False, track_running_stats=False)\n",
      "      )\n",
      "    )\n",
      "    (15): ResnetBlock(\n",
      "      (conv_block): Sequential(\n",
      "        (0): ReflectionPad2d((1, 1, 1, 1))\n",
      "        (1): Conv2d(256, 256, kernel_size=(3, 3), stride=(1, 1))\n",
      "        (2): InstanceNorm2d(256, eps=1e-05, momentum=0.1, affine=False, track_running_stats=False)\n",
      "        (3): ReLU(inplace=True)\n",
      "        (4): ReflectionPad2d((1, 1, 1, 1))\n",
      "        (5): Conv2d(256, 256, kernel_size=(3, 3), stride=(1, 1))\n",
      "        (6): InstanceNorm2d(256, eps=1e-05, momentum=0.1, affine=False, track_running_stats=False)\n",
      "      )\n",
      "    )\n",
      "    (16): ConvTranspose2d(256, 128, kernel_size=(3, 3), stride=(2, 2), padding=(1, 1), output_padding=(1, 1))\n",
      "    (17): InstanceNorm2d(128, eps=1e-05, momentum=0.1, affine=False, track_running_stats=False)\n",
      "    (18): ReLU(inplace=True)\n",
      "    (19): ConvTranspose2d(128, 64, kernel_size=(3, 3), stride=(2, 2), padding=(1, 1), output_padding=(1, 1))\n",
      "    (20): InstanceNorm2d(64, eps=1e-05, momentum=0.1, affine=False, track_running_stats=False)\n",
      "    (21): ReLU(inplace=True)\n",
      "    (22): ReflectionPad2d((3, 3, 3, 3))\n",
      "    (23): Conv2d(64, 3, kernel_size=(7, 7), stride=(1, 1))\n",
      "    (24): Tanh()\n",
      "  )\n",
      ")\n"
     ]
    }
   ],
   "source": [
    "print(test)"
   ]
  }
 ],
 "metadata": {
  "kernelspec": {
   "display_name": "Python 3",
   "language": "python",
   "name": "python3"
  },
  "language_info": {
   "codemirror_mode": {
    "name": "ipython",
    "version": 3
   },
   "file_extension": ".py",
   "mimetype": "text/x-python",
   "name": "python",
   "nbconvert_exporter": "python",
   "pygments_lexer": "ipython3",
   "version": "3.7.7"
  }
 },
 "nbformat": 4,
 "nbformat_minor": 4
}
