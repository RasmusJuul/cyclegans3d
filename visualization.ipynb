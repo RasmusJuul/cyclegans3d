{
 "cells": [
  {
   "cell_type": "code",
   "execution_count": 1,
   "metadata": {},
   "outputs": [],
   "source": [
    "import torch\n",
    "from cgmodel import CycleGan\n",
    "from src.UnpairedDataset import UnpairedDataset\n",
    "from torch.utils.data import DataLoader\n",
    "from torchvision import transforms\n",
    "from PIL import Image\n",
    "import numpy as np"
   ]
  },
  {
   "cell_type": "code",
   "execution_count": 2,
   "metadata": {},
   "outputs": [
    {
     "name": "stdout",
     "output_type": "stream",
     "text": [
      "Found 121 images of testA and 751 images of testB\n",
      "Initialized network with normal\n"
     ]
    }
   ],
   "source": [
    "data_transforms = {\n",
    "    'train': transforms.Compose([\n",
    "        transforms.Resize(286, Image.BICUBIC),\n",
    "        transforms.RandomCrop(256),\n",
    "        transforms.ToTensor(),\n",
    "        transforms.Normalize([.5, .5, .5], [.5, .5, .5])\n",
    "    ]),\n",
    "    'test': transforms.Compose([\n",
    "        transforms.ToTensor(),\n",
    "        transforms.Normalize([.5, .5, .5], [.5, .5, .5])\n",
    "    ]),\n",
    "}\n",
    "root = 'C:/Users/Deepak H R/Desktop/data/monet2photo/'\n",
    "test = UnpairedDataset(root, 'test', transforms=data_transforms['test'])\n",
    "test = DataLoader(test, batch_size=4)\n",
    "model = CycleGan.load_from_checkpoint('epoch=2.ckpt')"
   ]
  },
  {
   "cell_type": "code",
   "execution_count": 3,
   "metadata": {},
   "outputs": [],
   "source": [
    "batch = next(iter(test))\n",
    "imgA, imgB = batch['A'], batch['B']\n",
    "with torch.no_grad():\n",
    "    fakeA = model.genY(imgB)"
   ]
  },
  {
   "cell_type": "code",
   "execution_count": 4,
   "metadata": {},
   "outputs": [],
   "source": [
    "def toImage(x):\n",
    "    # converts tensor in range [-1,1] to a pil image\n",
    "    x = x.numpy()\n",
    "    x = np.transpose(x, (1,2,0))\n",
    "    x = (x + 1)*127.5\n",
    "    x = x.astype('uint8')\n",
    "    return Image.fromarray(x)\n",
    "\n",
    "imgB = [toImage(f) for f in imgB]\n",
    "fakeA = [toImage(f) for f in fakeA]"
   ]
  },
  {
   "cell_type": "code",
   "execution_count": 5,
   "metadata": {},
   "outputs": [],
   "source": [
    "def saveImages(real, fake):\n",
    "    for i, (r, f) in enumerate(zip(real, fake)):\n",
    "        r.save(f'images/real_{i}.jpg')\n",
    "        f.save(f'images/fake_{i}.jpg')\n",
    "        \n",
    "saveImages(imgB, fakeA)"
   ]
  }
 ],
 "metadata": {
  "kernelspec": {
   "display_name": "Python 3",
   "language": "python",
   "name": "python3"
  },
  "language_info": {
   "codemirror_mode": {
    "name": "ipython",
    "version": 3
   },
   "file_extension": ".py",
   "mimetype": "text/x-python",
   "name": "python",
   "nbconvert_exporter": "python",
   "pygments_lexer": "ipython3",
   "version": "3.7.7"
  }
 },
 "nbformat": 4,
 "nbformat_minor": 4
}
