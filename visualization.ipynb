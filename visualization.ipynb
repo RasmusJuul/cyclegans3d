{
 "cells": [
  {
   "cell_type": "code",
   "execution_count": 1,
   "metadata": {},
   "outputs": [],
   "source": [
    "import torch\n",
    "from cgmodel import CycleGan\n",
    "from src.UnpairedDataset import UnpairedDataset\n",
    "from torch.utils.data import DataLoader\n",
    "from torchvision import transforms\n",
    "from PIL import Image\n",
    "import numpy as np"
   ]
  },
  {
   "cell_type": "code",
   "execution_count": 2,
   "metadata": {},
   "outputs": [
    {
     "name": "stdout",
     "output_type": "stream",
     "text": [
      "Found 121 images of testA and 751 images of testB\n",
      "Initialized network with normal\n"
     ]
    }
   ],
   "source": [
    "data_transforms = {\n",
    "    'train': transforms.Compose([\n",
    "        transforms.Resize(286, Image.BICUBIC),\n",
    "        transforms.RandomCrop(256),\n",
    "        transforms.ToTensor(),\n",
    "        transforms.Normalize([.5, .5, .5], [.5, .5, .5])\n",
    "    ]),\n",
    "    'test': transforms.Compose([\n",
    "        transforms.ToTensor(),\n",
    "        transforms.Normalize([.5, .5, .5], [.5, .5, .5])\n",
    "    ]),\n",
    "}\n",
    "root = 'C:/Users/Deepak H R/Desktop/data/monet2photo/'\n",
    "test = UnpairedDataset(root, 'test', transforms=data_transforms['test'])\n",
    "test = DataLoader(test, batch_size=4)\n",
    "model = CycleGan.load_from_checkpoint('epoch_kaggle4.ckpt')"
   ]
  },
  {
   "cell_type": "code",
   "execution_count": 3,
   "metadata": {},
   "outputs": [],
   "source": [
    "batch = next(iter(test))\n",
    "imgA, imgB = batch['A'], batch['B']\n",
    "with torch.no_grad():\n",
    "    fakeB = model.genX(imgA)\n",
    "    fakeA = model.genY(imgB)"
   ]
  },
  {
   "cell_type": "code",
   "execution_count": 4,
   "metadata": {},
   "outputs": [],
   "source": [
    "def toImage(x):\n",
    "    # converts tensor in range [-1,1] to a pil image\n",
    "    x = x.numpy()\n",
    "    x = np.transpose(x, (1,2,0))\n",
    "    x = (x + 1)*127.5\n",
    "    x = x.astype('uint8')\n",
    "    return Image.fromarray(x)\n",
    "\n",
    "[imgA, imgB, fakeA, fakeB] = [[toImage(f) for f in X] for X in [imgA, imgB, fakeA, fakeB]]\n",
    "\n",
    "for i, (r1, r2, f1, f2) in enumerate(zip(imgA, imgB, fakeA, fakeB)):\n",
    "    r1.save(f'images/reala_{i}.jpg')\n",
    "    r2.save(f'images/realb_{i}.jpg')\n",
    "    f1.save(f'images/fakea_{i}.jpg')\n",
    "    f2.save(f'images/fakeb_{i}.jpg')  "
   ]
  }
 ],
 "metadata": {
  "kernelspec": {
   "display_name": "Python 3",
   "language": "python",
   "name": "python3"
  },
  "language_info": {
   "codemirror_mode": {
    "name": "ipython",
    "version": 3
   },
   "file_extension": ".py",
   "mimetype": "text/x-python",
   "name": "python",
   "nbconvert_exporter": "python",
   "pygments_lexer": "ipython3",
   "version": "3.7.7"
  }
 },
 "nbformat": 4,
 "nbformat_minor": 4
}
